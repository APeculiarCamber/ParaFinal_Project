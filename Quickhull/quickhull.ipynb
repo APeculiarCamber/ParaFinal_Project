{
 "cells": [
  {
   "cell_type": "code",
   "execution_count": 86,
   "metadata": {},
   "outputs": [
    {
     "data": {
      "text/plain": [
       "<matplotlib.collections.PathCollection at 0x7fc00ae2ae48>"
      ]
     },
     "execution_count": 86,
     "metadata": {},
     "output_type": "execute_result"
    },
    {
     "data": {
      "image/png": "[encoded data removed]",
      "text/plain": [
       "<Figure size 432x288 with 1 Axes>"
      ]
     },
     "metadata": {
      "needs_background": "light"
     },
     "output_type": "display_data"
    }
   ],
   "source": [
    "import numpy as np\n",
    "import matplotlib.pyplot as plt\n",
    "from numpy.linalg import norm\n",
    "\n",
    "N = 30\n",
    "pts = np.random.random((N,2))\n",
    "\n",
    "plt.scatter(pts[:,0], pts[:,1])"
   ]
  },
  {
   "cell_type": "code",
   "execution_count": 87,
   "metadata": {},
   "outputs": [
    {
     "data": {
      "image/png": "[encoded data removed]",
      "text/plain": [
       "<Figure size 432x288 with 1 Axes>"
      ]
     },
     "metadata": {
      "needs_background": "light"
     },
     "output_type": "display_data"
    }
   ],
   "source": [
    "def scatt(pts, c='blue'):\n",
    "    pts = np.array(pts)\n",
    "    if len(pts) > 0:\n",
    "        plt.scatter(pts[:,0], pts[:,1], c=c)\n",
    "\n",
    "def dist(p, A, B):\n",
    "    return norm(np.cross(B-A, A-p))/norm(B-A)\n",
    "\n",
    "def side(pt, A, B):\n",
    "    return ((pt[0]-A[0])*(B[1]-A[1])-(pt[1]-A[1])*(B[0]-A[0])) < 0\n",
    "\n",
    "def same(p1, p2):\n",
    "    return p1[0] == p2[0] and p1[1] == p2[1]\n",
    "\n",
    "def partition_set(pts, A, B):\n",
    "    set_A = []\n",
    "    set_B = []\n",
    "    for pt in pts:\n",
    "        if not same(pt, A) and not same(pt, B):\n",
    "            if side(pt, A, B):\n",
    "                set_A.append(pt)\n",
    "            else:\n",
    "                set_B.append(pt)\n",
    "    return np.array(set_A), np.array(set_B)\n",
    "\n",
    "def findhull(pts, P, Q):\n",
    "    if len(pts) == 0:\n",
    "        return []\n",
    "    d_p = lambda pt : dist(pt, P, Q)\n",
    "    m = np.argmax(list(map(d_p, pts)))\n",
    "    c = pts[m]\n",
    "    hull = [c]\n",
    "    np.delete(pts, m)\n",
    "    S1, S0 = partition_set(pts, P, c)\n",
    "    S2, S0 = partition_set(S0 , c, Q)\n",
    "    \n",
    "    hull += findhull(S1, P, c)\n",
    "    hull += findhull(S2, c, Q)\n",
    "\n",
    "    return hull\n",
    "\n",
    "def quickhull(pts):\n",
    "    hull = []\n",
    "    l = min(pts, key=lambda p : p[0])\n",
    "    r = max(pts, key=lambda p : p[0])\n",
    "    hull += [l, r]\n",
    "    \n",
    "    ls, rs = partition_set(pts, l, r)\n",
    "    hull += findhull(ls, l, r)\n",
    "    hull += findhull(rs, r, l)\n",
    "    \n",
    "    return hull\n",
    "\n",
    "hull = quickhull(pts)\n",
    "scatt(pts)\n",
    "scatt(hull, c='red')"
   ]
  },
  {
   "cell_type": "code",
   "execution_count": null,
   "metadata": {},
   "outputs": [],
   "source": []
  }
 ],
 "metadata": {
  "kernelspec": {
   "display_name": "Python 3",
   "language": "python",
   "name": "python3"
  },
  "language_info": {
   "codemirror_mode": {
    "name": "ipython",
    "version": 3
   },
   "file_extension": ".py",
   "mimetype": "text/x-python",
   "name": "python",
   "nbconvert_exporter": "python",
   "pygments_lexer": "ipython3",
   "version": "3.6.10"
  }
 },
 "nbformat": 4,
 "nbformat_minor": 4
}
